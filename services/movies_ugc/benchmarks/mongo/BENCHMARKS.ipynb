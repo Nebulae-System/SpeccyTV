{
 "cells": [
  {
   "cell_type": "markdown",
   "source": [
    "Тестирование производительности Mongo\n",
    "В рамках исследования было рассмотрено хранилище Mongo.\n",
    "\n",
    "Требования\n",
    "количество пользователей: 500_000\n",
    "количество фильмов: 20_000\n",
    "максимальное время ответа БД: 200мс\n",
    "Запуск"
   ],
   "metadata": {
    "collapsed": false
   }
  },
  {
   "cell_type": "code",
   "execution_count": null,
   "outputs": [],
   "source": [
    "!docker-compose up -d"
   ],
   "metadata": {
    "collapsed": false
   }
  },
  {
   "cell_type": "markdown",
   "source": [
    "Инициализация кластера и БД"
   ],
   "metadata": {
    "collapsed": false
   }
  },
  {
   "cell_type": "code",
   "execution_count": null,
   "outputs": [],
   "source": [
    "!docker-compose exec mongocfg1 sh -c \"mongo < /scripts/init_config_server.js\"\n",
    "!docker-compose exec mongors1n1 sh -c \"mongo < /scripts/init_shard_01.js\"\n",
    "!docker-compose exec mongors2n1 sh -c \"mongo  < /scripts/init_shard_02.js\"\n",
    "\n",
    "!sleep 30\n",
    "\n",
    "!docker-compose exec mongos1 sh -c \"mongo < /scripts/init_router.js\"\n",
    "!docker-compose exec mongos1 sh -c \"mongo < /scripts/init_db.js\"\n"
   ],
   "metadata": {
    "collapsed": false
   }
  },
  {
   "cell_type": "code",
   "execution_count": null,
   "outputs": [],
   "source": [
    "!export PYTHONPATH=\"${PYTHONPATH}:${PWD}/../..\""
   ],
   "metadata": {
    "collapsed": false
   }
  },
  {
   "cell_type": "code",
   "execution_count": null,
   "outputs": [],
   "source": [
    "from multiprocessing import Pool\n",
    "\n",
    "import tqdm\n",
    "from pymongo import MongoClient\n",
    "\n",
    "from config import DB_NAME, MONGO_HOST, MONGO_PORT\n",
    "from utils.test_data_gen import (\n",
    "    generate_movie_and_related_documents,\n",
    "    generate_user_documents,\n",
    "    movie_ids\n",
    ")\n",
    "\n",
    "\n",
    "def upload_users_documents():\n",
    "    client = MongoClient(MONGO_HOST, MONGO_PORT)\n",
    "    db = client.get_database(DB_NAME)\n",
    "\n",
    "    collection = db.get_collection('users')\n",
    "    collection.insert_many(generate_user_documents(), ordered=False)\n",
    "\n",
    "\n",
    "def upload_movie_ratings_and_reviews(movie_id):\n",
    "    # https://pymongo.readthedocs.io/en/stable/faq.html?highlight=never%20do%20this#using-pymongo-with-multiprocessing\n",
    "    client = MongoClient(MONGO_HOST, MONGO_PORT)\n",
    "    db = client.get_database(DB_NAME)\n",
    "\n",
    "    movie, ratings, reviews = generate_movie_and_related_documents(movie_id)\n",
    "\n",
    "    movies_coll = db.get_collection('movies')\n",
    "    movies_coll.insert_one(movie)\n",
    "\n",
    "    if ratings:\n",
    "        ratings_coll = db.get_collection('movie_ratings')\n",
    "        ratings_coll.insert_many(ratings, ordered=False)\n",
    "\n",
    "    if reviews:\n",
    "        reviews_coll = db.get_collection('reviews')\n",
    "        reviews_coll.insert_many(reviews, ordered=False)\n",
    "\n",
    "    client.close()"
   ],
   "metadata": {
    "collapsed": false
   }
  },
  {
   "cell_type": "code",
   "execution_count": null,
   "outputs": [],
   "source": [
    "upload_users_documents()\n",
    "\n",
    "with Pool() as pool:\n",
    "    r = list(tqdm.tqdm(\n",
    "        pool.imap(upload_movie_ratings_and_reviews, movie_ids),\n",
    "        total=len(movie_ids)\n",
    "    ))\n"
   ],
   "metadata": {
    "collapsed": false
   }
  },
  {
   "cell_type": "markdown",
   "source": [
    "Выполнение тестовых запросов"
   ],
   "metadata": {
    "collapsed": false
   }
  },
  {
   "cell_type": "markdown",
   "source": [
    "Чтение"
   ],
   "metadata": {
    "collapsed": false
   }
  },
  {
   "cell_type": "code",
   "execution_count": null,
   "outputs": [],
   "source": [
    "from utils.test_scenarios import READ_SCENARIOS\n",
    "\n",
    "for scenario in READ_SCENARIOS:\n",
    "    func = scenario.get('func')\n",
    "    kwargs = scenario.get('kwargs')\n",
    "    func(**kwargs)"
   ],
   "metadata": {
    "collapsed": false
   }
  },
  {
   "cell_type": "markdown",
   "source": [
    "Запись"
   ],
   "metadata": {
    "collapsed": false
   }
  },
  {
   "cell_type": "code",
   "execution_count": null,
   "outputs": [],
   "source": [
    "from utils.test_scenarios import WRITE_SCENARIOS\n",
    "\n",
    "for scenario in WRITE_SCENARIOS:\n",
    "    func = scenario.get('func')\n",
    "    kwargs = scenario.get('kwargs')\n",
    "    func(**kwargs)"
   ],
   "metadata": {
    "collapsed": false
   }
  },
  {
   "cell_type": "markdown",
   "source": [
    "Вывод"
   ],
   "metadata": {
    "collapsed": false
   }
  },
  {
   "cell_type": "markdown",
   "source": [
    "Mongo удовлетворяет указанным требованиям."
   ],
   "metadata": {
    "collapsed": false
   }
  },
  {
   "cell_type": "markdown",
   "source": [
    "Остановка"
   ],
   "metadata": {
    "collapsed": false
   }
  },
  {
   "cell_type": "code",
   "execution_count": null,
   "outputs": [],
   "source": [
    "!docker-compose down -v"
   ],
   "metadata": {
    "collapsed": false
   }
  }
 ],
 "metadata": {
  "kernelspec": {
   "display_name": "Python 3",
   "language": "python",
   "name": "python3"
  },
  "language_info": {
   "codemirror_mode": {
    "name": "ipython",
    "version": 2
   },
   "file_extension": ".py",
   "mimetype": "text/x-python",
   "name": "python",
   "nbconvert_exporter": "python",
   "pygments_lexer": "ipython2",
   "version": "2.7.6"
  }
 },
 "nbformat": 4,
 "nbformat_minor": 0
}
