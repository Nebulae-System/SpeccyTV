{
 "cells": [
  {
   "cell_type": "markdown",
   "source": [
    "## Тестирование производительности OLAP-хранилищ Clickhouse и Vertica"
   ],
   "metadata": {
    "collapsed": false
   }
  },
  {
   "cell_type": "markdown",
   "source": [
    "В рамках исследования были рассмотрены Clickhouse и Vertica."
   ],
   "metadata": {
    "collapsed": false
   }
  },
  {
   "cell_type": "code",
   "execution_count": null,
   "outputs": [],
   "source": [
    "!docker-compose up -d"
   ],
   "metadata": {
    "collapsed": false
   }
  },
  {
   "cell_type": "markdown",
   "source": [
    "#### Загрузка тестовых данных"
   ],
   "metadata": {
    "collapsed": false
   }
  },
  {
   "cell_type": "markdown",
   "source": [
    "Структура тестовой таблицы\n",
    "\n",
    "| ----------- | ----------- | | id | UUID | | user_id | UUID | | movie_id | UUID | | viewed_frame | Int |"
   ],
   "metadata": {
    "collapsed": false
   }
  },
  {
   "cell_type": "code",
   "execution_count": null,
   "outputs": [],
   "source": [
    "!export PYTHONPATH=\"${PYTHONPATH}:${PWD}/../..\""
   ],
   "metadata": {
    "collapsed": false
   }
  },
  {
   "cell_type": "markdown",
   "source": [
    "#### Загрузка тестовых данных в Clickhouse"
   ],
   "metadata": {
    "collapsed": false
   }
  },
  {
   "cell_type": "code",
   "execution_count": null,
   "outputs": [],
   "source": [
    "from multiprocessing import Pool\n",
    "\n",
    "import tqdm as tqdm\n",
    "from clickhouse_driver import Client\n",
    "\n",
    "from utils.fake_data_gen import Row, generate_fake_data\n",
    "from config import CLICKHOUSE_HOST, NUMBER_OF_BATCHES, UPLOAD_BATCH_SIZE\n",
    "\n",
    "client = Client(CLICKHOUSE_HOST)\n",
    "\n",
    "\n",
    "def upload_batch(batch):\n",
    "    columns = ', '.join(Row._fields)\n",
    "    client.execute(\n",
    "        f'INSERT INTO views ({columns}) VALUES',\n",
    "        batch\n",
    "    )"
   ],
   "metadata": {
    "collapsed": false
   }
  },
  {
   "cell_type": "code",
   "execution_count": null,
   "outputs": [],
   "source": [
    "test_data = generate_fake_data(UPLOAD_BATCH_SIZE, NUMBER_OF_BATCHES)\n",
    "\n",
    "with Pool() as pool:\n",
    "    r = list(tqdm.tqdm(\n",
    "        pool.imap(upload_batch, test_data),\n",
    "        total=NUMBER_OF_BATCHES\n",
    "    ))"
   ],
   "metadata": {
    "collapsed": false
   }
  },
  {
   "cell_type": "markdown",
   "source": [
    "#### Загрузка тестовых данных в Vertica"
   ],
   "metadata": {
    "collapsed": false
   }
  },
  {
   "cell_type": "code",
   "execution_count": null,
   "outputs": [],
   "source": [
    "from multiprocessing import Pool\n",
    "\n",
    "import tqdm\n",
    "import vertica_python\n",
    "\n",
    "from utils.fake_data_gen import Row, generate_fake_data\n",
    "from config import NUMBER_OF_BATCHES, UPLOAD_BATCH_SIZE, VERTICA_CONNECTION_PARAMS\n",
    "\n",
    "\n",
    "def upload_batch(batch):\n",
    "    with vertica_python.connect(**VERTICA_CONNECTION_PARAMS) as connection:\n",
    "        columns = ', '.join(Row._fields)\n",
    "        placeholders = ', '.join(['%s'] * len(Row._fields))\n",
    "        cursor = connection.cursor()\n",
    "        cursor.executemany(\n",
    "            f'INSERT INTO views ({columns}) VALUES ({placeholders})',\n",
    "            batch\n",
    "        )"
   ],
   "metadata": {
    "collapsed": false
   }
  },
  {
   "cell_type": "code",
   "execution_count": null,
   "outputs": [],
   "source": [
    "test_data = generate_fake_data(UPLOAD_BATCH_SIZE, NUMBER_OF_BATCHES)\n",
    "\n",
    "with Pool() as pool:\n",
    "    r = list(tqdm.tqdm(\n",
    "        pool.imap(upload_batch, test_data),\n",
    "        total=NUMBER_OF_BATCHES\n",
    "    ))"
   ],
   "metadata": {
    "collapsed": false
   }
  },
  {
   "cell_type": "markdown",
   "source": [
    "#### Выполнение тестовых запросов"
   ],
   "metadata": {
    "collapsed": false
   }
  },
  {
   "cell_type": "markdown",
   "source": [
    "Использовались следующие тестовые запросы:"
   ],
   "metadata": {
    "collapsed": false
   }
  },
  {
   "cell_type": "code",
   "execution_count": null,
   "outputs": [],
   "source": [
    "from utils.test_queries import QUERIES\n",
    "\n",
    "for name, query in QUERIES.items():\n",
    "    print(f'{name}')\n",
    "    print(f'{query}')\n",
    "    print(\"----------\")\n"
   ],
   "metadata": {
    "collapsed": false
   }
  },
  {
   "cell_type": "markdown",
   "source": [
    "#### Тестирование Clickhouse"
   ],
   "metadata": {
    "collapsed": false
   }
  },
  {
   "cell_type": "code",
   "execution_count": null,
   "outputs": [],
   "source": [
    "from clickhouse_driver import Client\n",
    "\n",
    "from utils.test_queries import QUERIES\n",
    "from utils.timer import timer\n",
    "from config import BENCHMARK_ITERATIONS, CLICKHOUSE_HOST\n",
    "\n",
    "client = Client(CLICKHOUSE_HOST)\n",
    "\n",
    "\n",
    "@timer(BENCHMARK_ITERATIONS)\n",
    "def execute_query(query: str):\n",
    "    client.execute(query)"
   ],
   "metadata": {
    "collapsed": false
   }
  },
  {
   "cell_type": "code",
   "execution_count": null,
   "outputs": [],
   "source": [
    "for name, query in QUERIES.items():\n",
    "    print(f'{name}')\n",
    "    execute_query(query)"
   ],
   "metadata": {
    "collapsed": false
   }
  },
  {
   "cell_type": "markdown",
   "source": [
    "#### Тестирование Vertica"
   ],
   "metadata": {
    "collapsed": false
   }
  },
  {
   "cell_type": "code",
   "execution_count": null,
   "outputs": [],
   "source": [
    "import vertica_python\n",
    "\n",
    "from utils.test_queries import QUERIES\n",
    "from utils.timer import timer\n",
    "from config import BENCHMARK_ITERATIONS, VERTICA_CONNECTION_PARAMS\n",
    "\n",
    "\n",
    "@timer(BENCHMARK_ITERATIONS)\n",
    "def execute_query(query: str):\n",
    "    with vertica_python.connect(**VERTICA_CONNECTION_PARAMS) as connection:\n",
    "        cursor = connection.cursor()\n",
    "        cursor.execute(query)"
   ],
   "metadata": {
    "collapsed": false
   }
  },
  {
   "cell_type": "code",
   "execution_count": null,
   "outputs": [],
   "source": [
    "for name, query in QUERIES.items():\n",
    "    print(f'{name}')\n",
    "    execute_query(query)"
   ],
   "metadata": {
    "collapsed": false
   }
  },
  {
   "cell_type": "markdown",
   "source": [
    "#### Вывод"
   ],
   "metadata": {
    "collapsed": false
   }
  },
  {
   "cell_type": "markdown",
   "source": [
    "Clickhouse показывает лучшую производительность во всех проведенных тестах!"
   ],
   "metadata": {
    "collapsed": false
   }
  },
  {
   "cell_type": "markdown",
   "source": [
    "#### Остановка"
   ],
   "metadata": {
    "collapsed": false
   }
  },
  {
   "cell_type": "code",
   "execution_count": null,
   "outputs": [],
   "source": [
    "!docker-compose down -v"
   ],
   "metadata": {
    "collapsed": false
   }
  },
  {
   "cell_type": "code",
   "execution_count": null,
   "outputs": [],
   "source": [],
   "metadata": {
    "collapsed": false
   }
  },
  {
   "cell_type": "code",
   "execution_count": null,
   "outputs": [],
   "source": [],
   "metadata": {
    "collapsed": false
   }
  }
 ],
 "metadata": {
  "kernelspec": {
   "display_name": "Python 3",
   "language": "python",
   "name": "python3"
  },
  "language_info": {
   "codemirror_mode": {
    "name": "ipython",
    "version": 2
   },
   "file_extension": ".py",
   "mimetype": "text/x-python",
   "name": "python",
   "nbconvert_exporter": "python",
   "pygments_lexer": "ipython2",
   "version": "2.7.6"
  }
 },
 "nbformat": 4,
 "nbformat_minor": 0
}
